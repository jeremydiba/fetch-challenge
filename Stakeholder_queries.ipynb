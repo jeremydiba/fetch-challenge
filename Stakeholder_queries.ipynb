{
 "cells": [
  {
   "cell_type": "markdown",
   "id": "78502cb4",
   "metadata": {},
   "source": [
    "**Here we will answer questions about our data**\n",
    "\n",
    "Import our dataframes \n",
    "\n",
    "utilize pandasql (sqldf) in order to make these \"sqlable\" \n",
    "\n",
    "write queries that answer said questions"
   ]
  },
  {
   "cell_type": "code",
   "execution_count": 76,
   "id": "287bd049",
   "metadata": {},
   "outputs": [],
   "source": [
    "#Imports \n",
    "from pandasql import sqldf\n",
    "import pandas as pd\n",
    "\n",
    "RewardsReceiptItems = pd.read_csv('clean_data/receipts_items.csv', index_col = 0)\n",
    "Receipts = pd.read_csv('clean_data/receipts.csv', index_col = 0)\n",
    "Brands = pd.read_csv('clean_data/brands.csv', index_col = 0)\n",
    "Users = pd.read_csv('clean_data/users.csv', index_col = 0)"
   ]
  },
  {
   "cell_type": "code",
   "execution_count": 9,
   "id": "6fa56c39",
   "metadata": {},
   "outputs": [
    {
     "data": {
      "text/html": [
       "<div>\n",
       "<style scoped>\n",
       "    .dataframe tbody tr th:only-of-type {\n",
       "        vertical-align: middle;\n",
       "    }\n",
       "\n",
       "    .dataframe tbody tr th {\n",
       "        vertical-align: top;\n",
       "    }\n",
       "\n",
       "    .dataframe thead th {\n",
       "        text-align: right;\n",
       "    }\n",
       "</style>\n",
       "<table border=\"1\" class=\"dataframe\">\n",
       "  <thead>\n",
       "    <tr style=\"text-align: right;\">\n",
       "      <th></th>\n",
       "      <th>active</th>\n",
       "      <th>createdDate</th>\n",
       "      <th>lastLogin</th>\n",
       "      <th>role</th>\n",
       "      <th>signUpSource</th>\n",
       "      <th>state</th>\n",
       "      <th>userId</th>\n",
       "    </tr>\n",
       "  </thead>\n",
       "  <tbody>\n",
       "    <tr>\n",
       "      <th>0</th>\n",
       "      <td>True</td>\n",
       "      <td>2021-01-03 15:24:04.800</td>\n",
       "      <td>2021-01-03 15:25:37.858</td>\n",
       "      <td>consumer</td>\n",
       "      <td>Email</td>\n",
       "      <td>WI</td>\n",
       "      <td>5ff1e194b6a9d73a3a9f1052</td>\n",
       "    </tr>\n",
       "    <tr>\n",
       "      <th>1</th>\n",
       "      <td>True</td>\n",
       "      <td>2021-01-03 15:24:04.800</td>\n",
       "      <td>2021-01-03 15:25:37.858</td>\n",
       "      <td>consumer</td>\n",
       "      <td>Email</td>\n",
       "      <td>WI</td>\n",
       "      <td>5ff1e194b6a9d73a3a9f1052</td>\n",
       "    </tr>\n",
       "    <tr>\n",
       "      <th>2</th>\n",
       "      <td>True</td>\n",
       "      <td>2021-01-03 15:24:04.800</td>\n",
       "      <td>2021-01-03 15:25:37.858</td>\n",
       "      <td>consumer</td>\n",
       "      <td>Email</td>\n",
       "      <td>WI</td>\n",
       "      <td>5ff1e194b6a9d73a3a9f1052</td>\n",
       "    </tr>\n",
       "    <tr>\n",
       "      <th>3</th>\n",
       "      <td>True</td>\n",
       "      <td>2021-01-03 15:25:30.554</td>\n",
       "      <td>2021-01-03 15:25:30.597</td>\n",
       "      <td>consumer</td>\n",
       "      <td>Email</td>\n",
       "      <td>WI</td>\n",
       "      <td>5ff1e1eacfcf6c399c274ae6</td>\n",
       "    </tr>\n",
       "    <tr>\n",
       "      <th>4</th>\n",
       "      <td>True</td>\n",
       "      <td>2021-01-03 15:24:04.800</td>\n",
       "      <td>2021-01-03 15:25:37.858</td>\n",
       "      <td>consumer</td>\n",
       "      <td>Email</td>\n",
       "      <td>WI</td>\n",
       "      <td>5ff1e194b6a9d73a3a9f1052</td>\n",
       "    </tr>\n",
       "    <tr>\n",
       "      <th>...</th>\n",
       "      <td>...</td>\n",
       "      <td>...</td>\n",
       "      <td>...</td>\n",
       "      <td>...</td>\n",
       "      <td>...</td>\n",
       "      <td>...</td>\n",
       "      <td>...</td>\n",
       "    </tr>\n",
       "    <tr>\n",
       "      <th>490</th>\n",
       "      <td>True</td>\n",
       "      <td>2014-12-19 14:21:22.381</td>\n",
       "      <td>2021-03-05 16:52:23.204</td>\n",
       "      <td>fetch-staff</td>\n",
       "      <td>NaN</td>\n",
       "      <td>NaN</td>\n",
       "      <td>54943462e4b07e684157a532</td>\n",
       "    </tr>\n",
       "    <tr>\n",
       "      <th>491</th>\n",
       "      <td>True</td>\n",
       "      <td>2014-12-19 14:21:22.381</td>\n",
       "      <td>2021-03-05 16:52:23.204</td>\n",
       "      <td>fetch-staff</td>\n",
       "      <td>NaN</td>\n",
       "      <td>NaN</td>\n",
       "      <td>54943462e4b07e684157a532</td>\n",
       "    </tr>\n",
       "    <tr>\n",
       "      <th>492</th>\n",
       "      <td>True</td>\n",
       "      <td>2014-12-19 14:21:22.381</td>\n",
       "      <td>2021-03-05 16:52:23.204</td>\n",
       "      <td>fetch-staff</td>\n",
       "      <td>NaN</td>\n",
       "      <td>NaN</td>\n",
       "      <td>54943462e4b07e684157a532</td>\n",
       "    </tr>\n",
       "    <tr>\n",
       "      <th>493</th>\n",
       "      <td>True</td>\n",
       "      <td>2014-12-19 14:21:22.381</td>\n",
       "      <td>2021-03-05 16:52:23.204</td>\n",
       "      <td>fetch-staff</td>\n",
       "      <td>NaN</td>\n",
       "      <td>NaN</td>\n",
       "      <td>54943462e4b07e684157a532</td>\n",
       "    </tr>\n",
       "    <tr>\n",
       "      <th>494</th>\n",
       "      <td>True</td>\n",
       "      <td>2014-12-19 14:21:22.381</td>\n",
       "      <td>2021-03-05 16:52:23.204</td>\n",
       "      <td>fetch-staff</td>\n",
       "      <td>NaN</td>\n",
       "      <td>NaN</td>\n",
       "      <td>54943462e4b07e684157a532</td>\n",
       "    </tr>\n",
       "  </tbody>\n",
       "</table>\n",
       "<p>495 rows × 7 columns</p>\n",
       "</div>"
      ],
      "text/plain": [
       "     active              createdDate                lastLogin         role  \\\n",
       "0      True  2021-01-03 15:24:04.800  2021-01-03 15:25:37.858     consumer   \n",
       "1      True  2021-01-03 15:24:04.800  2021-01-03 15:25:37.858     consumer   \n",
       "2      True  2021-01-03 15:24:04.800  2021-01-03 15:25:37.858     consumer   \n",
       "3      True  2021-01-03 15:25:30.554  2021-01-03 15:25:30.597     consumer   \n",
       "4      True  2021-01-03 15:24:04.800  2021-01-03 15:25:37.858     consumer   \n",
       "..      ...                      ...                      ...          ...   \n",
       "490    True  2014-12-19 14:21:22.381  2021-03-05 16:52:23.204  fetch-staff   \n",
       "491    True  2014-12-19 14:21:22.381  2021-03-05 16:52:23.204  fetch-staff   \n",
       "492    True  2014-12-19 14:21:22.381  2021-03-05 16:52:23.204  fetch-staff   \n",
       "493    True  2014-12-19 14:21:22.381  2021-03-05 16:52:23.204  fetch-staff   \n",
       "494    True  2014-12-19 14:21:22.381  2021-03-05 16:52:23.204  fetch-staff   \n",
       "\n",
       "    signUpSource state                    userId  \n",
       "0          Email    WI  5ff1e194b6a9d73a3a9f1052  \n",
       "1          Email    WI  5ff1e194b6a9d73a3a9f1052  \n",
       "2          Email    WI  5ff1e194b6a9d73a3a9f1052  \n",
       "3          Email    WI  5ff1e1eacfcf6c399c274ae6  \n",
       "4          Email    WI  5ff1e194b6a9d73a3a9f1052  \n",
       "..           ...   ...                       ...  \n",
       "490          NaN   NaN  54943462e4b07e684157a532  \n",
       "491          NaN   NaN  54943462e4b07e684157a532  \n",
       "492          NaN   NaN  54943462e4b07e684157a532  \n",
       "493          NaN   NaN  54943462e4b07e684157a532  \n",
       "494          NaN   NaN  54943462e4b07e684157a532  \n",
       "\n",
       "[495 rows x 7 columns]"
      ]
     },
     "execution_count": 9,
     "metadata": {},
     "output_type": "execute_result"
    }
   ],
   "source": [
    "#check the data\n",
    "#note there is a lot of duplicate user ids\n",
    "Users"
   ]
  },
  {
   "cell_type": "code",
   "execution_count": 11,
   "id": "99ecc491",
   "metadata": {},
   "outputs": [],
   "source": [
    "pysqldf = lambda q: sqldf(q, globals())"
   ]
  },
  {
   "cell_type": "markdown",
   "id": "76d33dc5",
   "metadata": {},
   "source": [
    "Question 1: What are the top 5 brands by receipts scanned for most recent month?"
   ]
  },
  {
   "cell_type": "code",
   "execution_count": null,
   "id": "096df3bb",
   "metadata": {},
   "outputs": [],
   "source": [
    "#quick check to see what the most recent month is - since we determined that its\n",
    "#the first of the month 2021-03, we will filter for any values >= 02-01 and filter out \n",
    "#values from 03-01\n",
    "query = \"\"\"SELECT max(dateScanned)\n",
    "\n",
    "from Receipts\"\"\""
   ]
  },
  {
   "cell_type": "code",
   "execution_count": 64,
   "id": "d9ef9b58",
   "metadata": {},
   "outputs": [],
   "source": [
    "query = \"\"\"\n",
    "SELECT  count(RewardsReceiptItems.brandCode) as receipt_count,\n",
    "\n",
    "        RewardsReceiptItems.brandCode\n",
    "        \n",
    "        FROM RewardsReceiptItems INNER JOIN Receipts\n",
    "        \n",
    "        ON RewardsReceiptItems.receiptId = Receipts.receiptId \n",
    "        \n",
    "        WHERE dateScanned >= '2021-02-01' and dateScanned < '2021-03-01'\n",
    "        \n",
    "        and  brandCode is not Null\n",
    "        \n",
    "        GROUP BY brandCode ORDER BY receipt_count DESC limit 5;\"\"\""
   ]
  },
  {
   "cell_type": "code",
   "execution_count": 65,
   "id": "8156472a",
   "metadata": {},
   "outputs": [
    {
     "data": {
      "text/html": [
       "<div>\n",
       "<style scoped>\n",
       "    .dataframe tbody tr th:only-of-type {\n",
       "        vertical-align: middle;\n",
       "    }\n",
       "\n",
       "    .dataframe tbody tr th {\n",
       "        vertical-align: top;\n",
       "    }\n",
       "\n",
       "    .dataframe thead th {\n",
       "        text-align: right;\n",
       "    }\n",
       "</style>\n",
       "<table border=\"1\" class=\"dataframe\">\n",
       "  <thead>\n",
       "    <tr style=\"text-align: right;\">\n",
       "      <th></th>\n",
       "      <th>receipt_count</th>\n",
       "      <th>brandCode</th>\n",
       "    </tr>\n",
       "  </thead>\n",
       "  <tbody>\n",
       "    <tr>\n",
       "      <th>0</th>\n",
       "      <td>3</td>\n",
       "      <td>BRAND</td>\n",
       "    </tr>\n",
       "    <tr>\n",
       "      <th>1</th>\n",
       "      <td>2</td>\n",
       "      <td>MISSION</td>\n",
       "    </tr>\n",
       "    <tr>\n",
       "      <th>2</th>\n",
       "      <td>1</td>\n",
       "      <td>VIVA</td>\n",
       "    </tr>\n",
       "  </tbody>\n",
       "</table>\n",
       "</div>"
      ],
      "text/plain": [
       "   receipt_count brandCode\n",
       "0              3     BRAND\n",
       "1              2   MISSION\n",
       "2              1      VIVA"
      ]
     },
     "execution_count": 65,
     "metadata": {},
     "output_type": "execute_result"
    }
   ],
   "source": [
    "pysqldf(query)"
   ]
  },
  {
   "cell_type": "code",
   "execution_count": 55,
   "id": "6a1159cb",
   "metadata": {},
   "outputs": [],
   "source": [
    "#even though this is not helpful, it is what the question asked.\n",
    "#most events seem to be in January, in which case the answer is below. "
   ]
  },
  {
   "cell_type": "code",
   "execution_count": 60,
   "id": "a30517ae",
   "metadata": {},
   "outputs": [],
   "source": [
    "query = \"\"\"\n",
    "SELECT  count(RewardsReceiptItems.receiptId) as receipt_item_count,\n",
    "\n",
    "        RewardsReceiptItems.brandCode\n",
    "        \n",
    "        FROM RewardsReceiptItems INNER JOIN Receipts\n",
    "        \n",
    "        ON RewardsReceiptItems.receiptId = Receipts.receiptId \n",
    "        \n",
    "        WHERE dateScanned >= '2021-01-01' and dateScanned < '2021-02-01'\n",
    "        \n",
    "        and  brandCode is not Null\n",
    "        \n",
    "        GROUP BY brandCode ORDER BY receipt_item_count DESC limit 5;\"\"\""
   ]
  },
  {
   "cell_type": "code",
   "execution_count": 61,
   "id": "07d99cd0",
   "metadata": {},
   "outputs": [
    {
     "data": {
      "text/html": [
       "<div>\n",
       "<style scoped>\n",
       "    .dataframe tbody tr th:only-of-type {\n",
       "        vertical-align: middle;\n",
       "    }\n",
       "\n",
       "    .dataframe tbody tr th {\n",
       "        vertical-align: top;\n",
       "    }\n",
       "\n",
       "    .dataframe thead th {\n",
       "        text-align: right;\n",
       "    }\n",
       "</style>\n",
       "<table border=\"1\" class=\"dataframe\">\n",
       "  <thead>\n",
       "    <tr style=\"text-align: right;\">\n",
       "      <th></th>\n",
       "      <th>receipt_item_count</th>\n",
       "      <th>brandCode</th>\n",
       "    </tr>\n",
       "  </thead>\n",
       "  <tbody>\n",
       "    <tr>\n",
       "      <th>0</th>\n",
       "      <td>291</td>\n",
       "      <td>HY-VEE</td>\n",
       "    </tr>\n",
       "    <tr>\n",
       "      <th>1</th>\n",
       "      <td>180</td>\n",
       "      <td>BEN AND JERRYS</td>\n",
       "    </tr>\n",
       "    <tr>\n",
       "      <th>2</th>\n",
       "      <td>93</td>\n",
       "      <td>PEPSI</td>\n",
       "    </tr>\n",
       "    <tr>\n",
       "      <th>3</th>\n",
       "      <td>89</td>\n",
       "      <td>KROGER</td>\n",
       "    </tr>\n",
       "    <tr>\n",
       "      <th>4</th>\n",
       "      <td>88</td>\n",
       "      <td>KLEENEX</td>\n",
       "    </tr>\n",
       "  </tbody>\n",
       "</table>\n",
       "</div>"
      ],
      "text/plain": [
       "   receipt_item_count       brandCode\n",
       "0                 291          HY-VEE\n",
       "1                 180  BEN AND JERRYS\n",
       "2                  93           PEPSI\n",
       "3                  89          KROGER\n",
       "4                  88         KLEENEX"
      ]
     },
     "execution_count": 61,
     "metadata": {},
     "output_type": "execute_result"
    }
   ],
   "source": [
    "pysqldf(query)"
   ]
  },
  {
   "cell_type": "markdown",
   "id": "6feee3f1",
   "metadata": {},
   "source": [
    "Question 2:  \n",
    "\n",
    "Given the above queries, it is easy to see we may be having data quality issues in tracking brand.  The receipt item count from January is completely different than Feb where only 6 events were valid. "
   ]
  },
  {
   "cell_type": "code",
   "execution_count": 46,
   "id": "4350c5ff",
   "metadata": {},
   "outputs": [],
   "source": [
    "query = \"\"\"\n",
    "SELECT Receipts.receiptId, count(RewardsReceiptItems.receiptId) as receipt_item_count,\n",
    "\n",
    "        RewardsReceiptItems.brandCode\n",
    "        \n",
    "        FROM RewardsReceiptItems INNER JOIN Receipts\n",
    "        \n",
    "        ON RewardsReceiptItems.receiptId = Receipts.receiptId \n",
    "        \n",
    "        WHERE dateScanned >= '2020-12-01' and dateScanned < '2021-01-01'\n",
    "        \n",
    "        and  brandCode is not Null\n",
    "        \n",
    "        GROUP BY brandCode ORDER BY receipt_item_count DESC limit 5;\"\"\""
   ]
  },
  {
   "cell_type": "code",
   "execution_count": 47,
   "id": "a4ee331d",
   "metadata": {},
   "outputs": [
    {
     "data": {
      "text/html": [
       "<div>\n",
       "<style scoped>\n",
       "    .dataframe tbody tr th:only-of-type {\n",
       "        vertical-align: middle;\n",
       "    }\n",
       "\n",
       "    .dataframe tbody tr th {\n",
       "        vertical-align: top;\n",
       "    }\n",
       "\n",
       "    .dataframe thead th {\n",
       "        text-align: right;\n",
       "    }\n",
       "</style>\n",
       "<table border=\"1\" class=\"dataframe\">\n",
       "  <thead>\n",
       "    <tr style=\"text-align: right;\">\n",
       "      <th></th>\n",
       "      <th>receiptId</th>\n",
       "      <th>receipt_count</th>\n",
       "      <th>brandCode</th>\n",
       "    </tr>\n",
       "  </thead>\n",
       "  <tbody>\n",
       "  </tbody>\n",
       "</table>\n",
       "</div>"
      ],
      "text/plain": [
       "Empty DataFrame\n",
       "Columns: [receiptId, receipt_count, brandCode]\n",
       "Index: []"
      ]
     },
     "execution_count": 47,
     "metadata": {},
     "output_type": "execute_result"
    }
   ],
   "source": [
    "pysqldf(query)"
   ]
  },
  {
   "cell_type": "markdown",
   "id": "bf8bccc2",
   "metadata": {},
   "source": [
    "Question 3:\n",
    "When considering average spend from receipts with 'rewardsReceiptStatus’ of ‘Accepted’ or ‘Rejected’, which is greater?\n",
    "\n",
    "Note: I am going to assume we mean finished or rejected, because I checked this data as well as raw and there were no accepted statuses"
   ]
  },
  {
   "cell_type": "code",
   "execution_count": 74,
   "id": "6f405c75",
   "metadata": {},
   "outputs": [],
   "source": [
    "query = \"\"\"SELECT Receipts.rewardsReceiptStatus as rewardsReceiptStatus, \n",
    "        \n",
    "        avg(Receipts.totalSpent) as average_spend\n",
    "\n",
    "        FROM RewardsReceiptItems INNER JOIN Receipts\n",
    "        \n",
    "        ON RewardsReceiptItems.receiptId = Receipts.receiptId\n",
    "\n",
    "        where rewardsReceiptStatus IN ('ACCEPTED', 'FINISHED', 'REJECTED')\n",
    "        \n",
    "        GROUP BY rewardsReceiptStatus;\"\"\""
   ]
  },
  {
   "cell_type": "code",
   "execution_count": 75,
   "id": "10df1176",
   "metadata": {},
   "outputs": [
    {
     "data": {
      "text/html": [
       "<div>\n",
       "<style scoped>\n",
       "    .dataframe tbody tr th:only-of-type {\n",
       "        vertical-align: middle;\n",
       "    }\n",
       "\n",
       "    .dataframe tbody tr th {\n",
       "        vertical-align: top;\n",
       "    }\n",
       "\n",
       "    .dataframe thead th {\n",
       "        text-align: right;\n",
       "    }\n",
       "</style>\n",
       "<table border=\"1\" class=\"dataframe\">\n",
       "  <thead>\n",
       "    <tr style=\"text-align: right;\">\n",
       "      <th></th>\n",
       "      <th>rewardsReceiptStatus</th>\n",
       "      <th>average_spend</th>\n",
       "    </tr>\n",
       "  </thead>\n",
       "  <tbody>\n",
       "    <tr>\n",
       "      <th>0</th>\n",
       "      <td>FINISHED</td>\n",
       "      <td>1244.372934</td>\n",
       "    </tr>\n",
       "    <tr>\n",
       "      <th>1</th>\n",
       "      <td>REJECTED</td>\n",
       "      <td>19.544970</td>\n",
       "    </tr>\n",
       "  </tbody>\n",
       "</table>\n",
       "</div>"
      ],
      "text/plain": [
       "  rewardsReceiptStatus  average_spend\n",
       "0             FINISHED    1244.372934\n",
       "1             REJECTED      19.544970"
      ]
     },
     "execution_count": 75,
     "metadata": {},
     "output_type": "execute_result"
    }
   ],
   "source": [
    "pysqldf(query)"
   ]
  },
  {
   "cell_type": "markdown",
   "id": "ceb224d3",
   "metadata": {},
   "source": [
    "It can be seen that average spend is much higher in the finished state!"
   ]
  },
  {
   "cell_type": "markdown",
   "id": "26ef8800",
   "metadata": {},
   "source": [
    "Question 4:\n",
    "When considering total number of items purchased from receipts with 'rewardsReceiptStatus’ of ‘Accepted’ or ‘Rejected’, which is greater?\n",
    "\n",
    "Note: I am going to assume we mean finished or rejected, because I checked this data as well as raw and there were no accepted statuses"
   ]
  },
  {
   "cell_type": "code",
   "execution_count": 77,
   "id": "c00f5e61",
   "metadata": {},
   "outputs": [],
   "source": [
    "query = \"\"\"SELECT Receipts.rewardsReceiptStatus as rewardsReceiptStatus, \n",
    "        \n",
    "        count(Receipts.purchasedItemCount) as purchasedItemCount\n",
    "\n",
    "        FROM RewardsReceiptItems INNER JOIN Receipts\n",
    "        \n",
    "        ON RewardsReceiptItems.receiptId = Receipts.receiptId\n",
    "\n",
    "        where rewardsReceiptStatus IN ('ACCEPTED', 'FINISHED', 'REJECTED')\n",
    "        \n",
    "        GROUP BY rewardsReceiptStatus;\"\"\""
   ]
  },
  {
   "cell_type": "code",
   "execution_count": 78,
   "id": "6c458d11",
   "metadata": {},
   "outputs": [
    {
     "data": {
      "text/html": [
       "<div>\n",
       "<style scoped>\n",
       "    .dataframe tbody tr th:only-of-type {\n",
       "        vertical-align: middle;\n",
       "    }\n",
       "\n",
       "    .dataframe tbody tr th {\n",
       "        vertical-align: top;\n",
       "    }\n",
       "\n",
       "    .dataframe thead th {\n",
       "        text-align: right;\n",
       "    }\n",
       "</style>\n",
       "<table border=\"1\" class=\"dataframe\">\n",
       "  <thead>\n",
       "    <tr style=\"text-align: right;\">\n",
       "      <th></th>\n",
       "      <th>rewardsReceiptStatus</th>\n",
       "      <th>purchasedItemCount</th>\n",
       "    </tr>\n",
       "  </thead>\n",
       "  <tbody>\n",
       "    <tr>\n",
       "      <th>0</th>\n",
       "      <td>FINISHED</td>\n",
       "      <td>5920</td>\n",
       "    </tr>\n",
       "    <tr>\n",
       "      <th>1</th>\n",
       "      <td>REJECTED</td>\n",
       "      <td>167</td>\n",
       "    </tr>\n",
       "  </tbody>\n",
       "</table>\n",
       "</div>"
      ],
      "text/plain": [
       "  rewardsReceiptStatus  purchasedItemCount\n",
       "0             FINISHED                5920\n",
       "1             REJECTED                 167"
      ]
     },
     "execution_count": 78,
     "metadata": {},
     "output_type": "execute_result"
    }
   ],
   "source": [
    "pysqldf(query)"
   ]
  },
  {
   "cell_type": "markdown",
   "id": "058f04bd",
   "metadata": {},
   "source": [
    "It can be seen that items purchased is much higher in the finished state!"
   ]
  },
  {
   "cell_type": "code",
   "execution_count": null,
   "id": "47277b28",
   "metadata": {},
   "outputs": [],
   "source": []
  }
 ],
 "metadata": {
  "kernelspec": {
   "display_name": "Python 3 (ipykernel)",
   "language": "python",
   "name": "python3"
  },
  "language_info": {
   "codemirror_mode": {
    "name": "ipython",
    "version": 3
   },
   "file_extension": ".py",
   "mimetype": "text/x-python",
   "name": "python",
   "nbconvert_exporter": "python",
   "pygments_lexer": "ipython3",
   "version": "3.9.7"
  }
 },
 "nbformat": 4,
 "nbformat_minor": 5
}
